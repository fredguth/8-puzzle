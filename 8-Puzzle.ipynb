{
 "cells": [
  {
   "cell_type": "markdown",
   "metadata": {},
   "source": [
    "# 8-puzzle: IA 1 - Professor Li Weigang\n",
    "### Fred Guth - 190050411 - 21/03/2019"
   ]
  },
  {
   "cell_type": "code",
   "execution_count": 1,
   "metadata": {},
   "outputs": [],
   "source": [
    "import numpy as np\n",
    "from sortedcontainers import SortedDict"
   ]
  },
  {
   "cell_type": "markdown",
   "metadata": {},
   "source": [
    "__moves__ guarda as movimentações (swaps) possíveis para cada posição do tabuleiro.\n",
    "O tabuleiro é representado por uma simples lista ou um número. \n",
    "Por exemplo, a posição inicial é o estado [5,4,0,6,1,8,7,3,2] e também pode ser representado por 540618732."
   ]
  },
  {
   "cell_type": "code",
   "execution_count": 2,
   "metadata": {},
   "outputs": [],
   "source": [
    "moves=np.array([[1,3],[0,2,4],[1,5],[1,4,6],[1,3,5,7],[2,4,8],[3,7],[6,4,8],[5,7]])\n",
    "initial = [5,4,0,6,1,8,7,3,2] # 0 marks where it is empty\n",
    "final = [1,2,3,8,0,4,7,6,5]\n",
    "visited = SortedDict()"
   ]
  },
  {
   "cell_type": "code",
   "execution_count": 3,
   "metadata": {},
   "outputs": [],
   "source": [
    "# \"Troca\" alguma posição do tabuleiro com o espaço vazio.  Não verifica se o swap é válido.\n",
    "def Swap(state, pos):\n",
    "    empty = state.index(0)\n",
    "    state[empty], state[pos] = state[pos], state[empty]\n",
    "    return state"
   ]
  },
  {
   "cell_type": "code",
   "execution_count": 4,
   "metadata": {},
   "outputs": [],
   "source": [
    "# Imprime o tabuleiro\n",
    "def PrintBoard(state):\n",
    "    print (np.asarray(state).reshape((3,3)))"
   ]
  },
  {
   "cell_type": "code",
   "execution_count": 5,
   "metadata": {},
   "outputs": [],
   "source": [
    "# Transforma a representação do tabuleiro por lista em representação por número\n",
    "def Numerify(state):\n",
    "    return int(\"\".join(map(str, state[:]))) "
   ]
  },
  {
   "cell_type": "code",
   "execution_count": 6,
   "metadata": {},
   "outputs": [],
   "source": [
    "# Imprime todas as posições do tabuleiro do estado inicial ao \"state\"\n",
    "def Trace(state):\n",
    "    stack = []\n",
    "    stack.append(state)\n",
    "    parent = visited[Numerify(state)]['parent']\n",
    "    while (parent is not None):\n",
    "        stack.insert(0, parent)\n",
    "        parent = visited[Numerify(parent)]['parent']\n",
    "    for i, s in enumerate(stack):\n",
    "        print(f'position #{i}:')\n",
    "        PrintBoard(s)"
   ]
  },
  {
   "cell_type": "markdown",
   "metadata": {},
   "source": [
    "## Primeira Abordagem: BFS\n",
    "O problema do Breadth-First Search é que não há nenhuma priorização entre os estados enfileirados para serem buscados."
   ]
  },
  {
   "cell_type": "code",
   "execution_count": 7,
   "metadata": {},
   "outputs": [],
   "source": [
    "# Breadth-First Search\n",
    "def BFS(source):\n",
    "    counter = 0\n",
    "    visited[Numerify(source)]={'moves': 0, 'parent': None}\n",
    "    queue = []\n",
    "    queue.insert(0,source)   \n",
    "    while (len(queue) > 0):\n",
    "        u = queue.pop()\n",
    "        m = visited[Numerify(u)]['moves']\n",
    "        empty = u.index(0) # where is empty\n",
    "        for v in moves[empty]:\n",
    "            state = Swap(u[:], v) # u[:] makes a copy of u\n",
    "            if not(visited.__contains__(Numerify(state))):\n",
    "                visited[Numerify(state)]={'moves':m+1, 'parent': u}\n",
    "                if (Numerify(state) == Numerify(final)):\n",
    "                        print (f'{counter:,} evaluations.')\n",
    "                        print (visited[Numerify(state)])\n",
    "                        return\n",
    "                else:\n",
    "                    counter = counter + 1\n",
    "                    queue.insert(0,state)"
   ]
  },
  {
   "cell_type": "code",
   "execution_count": 8,
   "metadata": {},
   "outputs": [
    {
     "name": "stdout",
     "output_type": "stream",
     "text": [
      "279,355 evaluations.\n",
      "{'moves': 25, 'parent': [1, 2, 3, 8, 4, 0, 7, 6, 5]}\n"
     ]
    }
   ],
   "source": [
    "BFS(initial)"
   ]
  },
  {
   "cell_type": "code",
   "execution_count": 9,
   "metadata": {},
   "outputs": [
    {
     "name": "stdout",
     "output_type": "stream",
     "text": [
      "position #0:\n",
      "[[5 4 0]\n",
      " [6 1 8]\n",
      " [7 3 2]]\n",
      "position #1:\n",
      "[[5 0 4]\n",
      " [6 1 8]\n",
      " [7 3 2]]\n",
      "position #2:\n",
      "[[0 5 4]\n",
      " [6 1 8]\n",
      " [7 3 2]]\n",
      "position #3:\n",
      "[[6 5 4]\n",
      " [0 1 8]\n",
      " [7 3 2]]\n",
      "position #4:\n",
      "[[6 5 4]\n",
      " [1 0 8]\n",
      " [7 3 2]]\n",
      "position #5:\n",
      "[[6 0 4]\n",
      " [1 5 8]\n",
      " [7 3 2]]\n",
      "position #6:\n",
      "[[0 6 4]\n",
      " [1 5 8]\n",
      " [7 3 2]]\n",
      "position #7:\n",
      "[[1 6 4]\n",
      " [0 5 8]\n",
      " [7 3 2]]\n",
      "position #8:\n",
      "[[1 0 4]\n",
      " [6 5 8]\n",
      " [7 3 2]]\n",
      "position #9:\n",
      "[[1 4 0]\n",
      " [6 5 8]\n",
      " [7 3 2]]\n",
      "position #10:\n",
      "[[1 4 8]\n",
      " [6 5 0]\n",
      " [7 3 2]]\n",
      "position #11:\n",
      "[[1 4 8]\n",
      " [6 5 2]\n",
      " [7 3 0]]\n",
      "position #12:\n",
      "[[1 4 8]\n",
      " [6 5 2]\n",
      " [7 0 3]]\n",
      "position #13:\n",
      "[[1 4 8]\n",
      " [6 0 2]\n",
      " [7 5 3]]\n",
      "position #14:\n",
      "[[1 4 8]\n",
      " [0 6 2]\n",
      " [7 5 3]]\n",
      "position #15:\n",
      "[[1 0 8]\n",
      " [4 6 2]\n",
      " [7 5 3]]\n",
      "position #16:\n",
      "[[1 8 0]\n",
      " [4 6 2]\n",
      " [7 5 3]]\n",
      "position #17:\n",
      "[[1 8 2]\n",
      " [4 6 0]\n",
      " [7 5 3]]\n",
      "position #18:\n",
      "[[1 8 2]\n",
      " [4 6 3]\n",
      " [7 5 0]]\n",
      "position #19:\n",
      "[[1 8 2]\n",
      " [4 6 3]\n",
      " [7 0 5]]\n",
      "position #20:\n",
      "[[1 8 2]\n",
      " [4 0 3]\n",
      " [7 6 5]]\n",
      "position #21:\n",
      "[[1 8 2]\n",
      " [0 4 3]\n",
      " [7 6 5]]\n",
      "position #22:\n",
      "[[1 0 2]\n",
      " [8 4 3]\n",
      " [7 6 5]]\n",
      "position #23:\n",
      "[[1 2 0]\n",
      " [8 4 3]\n",
      " [7 6 5]]\n",
      "position #24:\n",
      "[[1 2 3]\n",
      " [8 4 0]\n",
      " [7 6 5]]\n",
      "position #25:\n",
      "[[1 2 3]\n",
      " [8 0 4]\n",
      " [7 6 5]]\n"
     ]
    }
   ],
   "source": [
    "Trace(final)"
   ]
  },
  {
   "cell_type": "markdown",
   "metadata": {},
   "source": [
    "## Segunda Abordagem: "
   ]
  },
  {
   "cell_type": "code",
   "execution_count": 10,
   "metadata": {},
   "outputs": [],
   "source": [
    "import heapq"
   ]
  },
  {
   "cell_type": "code",
   "execution_count": 11,
   "metadata": {},
   "outputs": [],
   "source": [
    "moves=np.array([[1,3],[0,2,4],[1,5],[1,4,6],[1,3,5,7],[2,4,8],[3,7],[6,4,8],[5,7]])\n",
    "initial = [5,4,0,6,1,8,7,3,2] # 0 marks where it is empty\n",
    "final = [1,2,3,8,0,4,7,6,5]\n",
    "visited = SortedDict()"
   ]
  },
  {
   "cell_type": "code",
   "execution_count": 12,
   "metadata": {},
   "outputs": [],
   "source": [
    "# Checa o número de posições diferentes entre dois tabuleiros\n",
    "def GetDistance(n1, n2):\n",
    "    s1, s2 = str(Numerify(n1)), str(Numerify(n2))\n",
    "    return sum(ch1 != ch2 for ch1, ch2 in zip(s1, s2))"
   ]
  },
  {
   "cell_type": "code",
   "execution_count": 13,
   "metadata": {},
   "outputs": [],
   "source": [
    "# Priority Search: usaremos um heap para fila de prioridade e a função *heuristic* para determinar o custo\n",
    "def PS(heuristic, source):\n",
    "    counter = 0\n",
    "    visited[Numerify(source)]={'moves': 0, 'parent': None}\n",
    "    h = [] \n",
    "    heapq.heappush(h, (0, source))\n",
    "    while (len(h) > 0):\n",
    "        u = heapq.heappop(h)[1]\n",
    "        m = visited[Numerify(u)]['moves']\n",
    "        empty = u.index(0) # where is empty\n",
    "        for v in moves[empty]:\n",
    "            state = Swap(u[:], v) # u[:] makes a copy of u\n",
    "            if not(visited.__contains__(Numerify(state))):\n",
    "                visited[Numerify(state)]={'moves':m+1, 'parent': u}\n",
    "                if (Numerify(state) == Numerify(final)):\n",
    "                        print (f'{counter:,} evaluations.')\n",
    "                        print (visited[Numerify(state)])\n",
    "                        return\n",
    "                else:\n",
    "                    counter = counter + 1\n",
    "                    cost = heuristic(state, final)\n",
    "                    heapq.heappush(h, ((m + cost), state))"
   ]
  },
  {
   "cell_type": "code",
   "execution_count": 14,
   "metadata": {},
   "outputs": [
    {
     "name": "stdout",
     "output_type": "stream",
     "text": [
      "112,834 evaluations.\n",
      "{'moves': 27, 'parent': [1, 2, 3, 8, 4, 0, 7, 6, 5]}\n"
     ]
    }
   ],
   "source": [
    "PS(GetDistance, initial)"
   ]
  },
  {
   "cell_type": "code",
   "execution_count": 15,
   "metadata": {},
   "outputs": [
    {
     "name": "stdout",
     "output_type": "stream",
     "text": [
      "position #0:\n",
      "[[5 4 0]\n",
      " [6 1 8]\n",
      " [7 3 2]]\n",
      "position #1:\n",
      "[[5 0 4]\n",
      " [6 1 8]\n",
      " [7 3 2]]\n",
      "position #2:\n",
      "[[5 1 4]\n",
      " [6 0 8]\n",
      " [7 3 2]]\n",
      "position #3:\n",
      "[[5 1 4]\n",
      " [0 6 8]\n",
      " [7 3 2]]\n",
      "position #4:\n",
      "[[5 1 4]\n",
      " [7 6 8]\n",
      " [0 3 2]]\n",
      "position #5:\n",
      "[[5 1 4]\n",
      " [7 6 8]\n",
      " [3 0 2]]\n",
      "position #6:\n",
      "[[5 1 4]\n",
      " [7 0 8]\n",
      " [3 6 2]]\n",
      "position #7:\n",
      "[[5 1 4]\n",
      " [7 8 0]\n",
      " [3 6 2]]\n",
      "position #8:\n",
      "[[5 1 4]\n",
      " [7 8 2]\n",
      " [3 6 0]]\n",
      "position #9:\n",
      "[[5 1 4]\n",
      " [7 8 2]\n",
      " [3 0 6]]\n",
      "position #10:\n",
      "[[5 1 4]\n",
      " [7 8 2]\n",
      " [0 3 6]]\n",
      "position #11:\n",
      "[[5 1 4]\n",
      " [0 8 2]\n",
      " [7 3 6]]\n",
      "position #12:\n",
      "[[5 0 4]\n",
      " [1 8 2]\n",
      " [7 3 6]]\n",
      "position #13:\n",
      "[[0 5 4]\n",
      " [1 8 2]\n",
      " [7 3 6]]\n",
      "position #14:\n",
      "[[1 5 4]\n",
      " [0 8 2]\n",
      " [7 3 6]]\n",
      "position #15:\n",
      "[[1 5 4]\n",
      " [8 0 2]\n",
      " [7 3 6]]\n",
      "position #16:\n",
      "[[1 0 4]\n",
      " [8 5 2]\n",
      " [7 3 6]]\n",
      "position #17:\n",
      "[[1 4 0]\n",
      " [8 5 2]\n",
      " [7 3 6]]\n",
      "position #18:\n",
      "[[1 4 2]\n",
      " [8 5 0]\n",
      " [7 3 6]]\n",
      "position #19:\n",
      "[[1 4 2]\n",
      " [8 0 5]\n",
      " [7 3 6]]\n",
      "position #20:\n",
      "[[1 4 2]\n",
      " [8 3 5]\n",
      " [7 0 6]]\n",
      "position #21:\n",
      "[[1 4 2]\n",
      " [8 3 5]\n",
      " [7 6 0]]\n",
      "position #22:\n",
      "[[1 4 2]\n",
      " [8 3 0]\n",
      " [7 6 5]]\n",
      "position #23:\n",
      "[[1 4 2]\n",
      " [8 0 3]\n",
      " [7 6 5]]\n",
      "position #24:\n",
      "[[1 0 2]\n",
      " [8 4 3]\n",
      " [7 6 5]]\n",
      "position #25:\n",
      "[[1 2 0]\n",
      " [8 4 3]\n",
      " [7 6 5]]\n",
      "position #26:\n",
      "[[1 2 3]\n",
      " [8 4 0]\n",
      " [7 6 5]]\n",
      "position #27:\n",
      "[[1 2 3]\n",
      " [8 0 4]\n",
      " [7 6 5]]\n"
     ]
    }
   ],
   "source": [
    "Trace(final)"
   ]
  },
  {
   "cell_type": "markdown",
   "metadata": {},
   "source": [
    "## Terceira Abordagem: "
   ]
  },
  {
   "cell_type": "code",
   "execution_count": 16,
   "metadata": {},
   "outputs": [],
   "source": [
    "moves=np.array([[1,3],[0,2,4],[1,5],[1,4,6],[1,3,5,7],[2,4,8],[3,7],[6,4,8],[5,7]])\n",
    "initial = [5,4,0,6,1,8,7,3,2] # 0 marks where it is empty\n",
    "final = [1,2,3,8,0,4,7,6,5]\n",
    "visited = SortedDict()"
   ]
  },
  {
   "cell_type": "code",
   "execution_count": 17,
   "metadata": {},
   "outputs": [],
   "source": [
    "def manhattan_distance(current, goal):\n",
    "    return sum(abs(b%3 - g%3) + abs(b//3 - g//3)\n",
    "        for b, g in ((current.index(i), goal.index(i)) for i in range(1, 9)))"
   ]
  },
  {
   "cell_type": "code",
   "execution_count": 18,
   "metadata": {},
   "outputs": [
    {
     "name": "stdout",
     "output_type": "stream",
     "text": [
      "3,830 evaluations.\n",
      "{'moves': 25, 'parent': [1, 2, 3, 8, 4, 0, 7, 6, 5]}\n"
     ]
    }
   ],
   "source": [
    "PS(manhattan_distance, initial)"
   ]
  },
  {
   "cell_type": "code",
   "execution_count": null,
   "metadata": {},
   "outputs": [],
   "source": []
  }
 ],
 "metadata": {
  "kernelspec": {
   "display_name": "Python 3",
   "language": "python",
   "name": "python3"
  },
  "language_info": {
   "codemirror_mode": {
    "name": "ipython",
    "version": 3
   },
   "file_extension": ".py",
   "mimetype": "text/x-python",
   "name": "python",
   "nbconvert_exporter": "python",
   "pygments_lexer": "ipython3",
   "version": "3.7.2"
  }
 },
 "nbformat": 4,
 "nbformat_minor": 2
}
