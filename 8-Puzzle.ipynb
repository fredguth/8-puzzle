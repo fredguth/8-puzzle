{
 "cells": [
  {
   "cell_type": "code",
   "execution_count": 1,
   "metadata": {},
   "outputs": [],
   "source": [
    "import numpy as np\n",
    "from sortedcontainers import SortedDict"
   ]
  },
  {
   "cell_type": "code",
   "execution_count": 2,
   "metadata": {},
   "outputs": [],
   "source": [
    "moves=np.array([[1,3],[0,2,4],[1,5],[1,4,6],[1,3,5,7],[2,4,8],[3,7],[6,4,8],[5,7]])\n",
    "initial = [5,4,0,6,1,8,7,3,2] # 0 marks where it is empty\n",
    "final = [1,2,3,8,0,4,7,6,5]\n",
    "visited = SortedDict()"
   ]
  },
  {
   "cell_type": "code",
   "execution_count": 3,
   "metadata": {},
   "outputs": [],
   "source": [
    "def Move(state, pos):\n",
    "    empty = state.index(0)\n",
    "    state[empty], state[pos] = state[pos], state[empty]\n",
    "    return state"
   ]
  },
  {
   "cell_type": "code",
   "execution_count": 4,
   "metadata": {},
   "outputs": [],
   "source": [
    "def PrintBoard(state):\n",
    "    print (np.asarray(state).reshape((3,3)))"
   ]
  },
  {
   "cell_type": "code",
   "execution_count": 5,
   "metadata": {},
   "outputs": [],
   "source": [
    "def Numerify(state):\n",
    "    return int(\"\".join(map(str, state[:]))) "
   ]
  },
  {
   "cell_type": "code",
   "execution_count": 6,
   "metadata": {},
   "outputs": [],
   "source": [
    "def BuscaCega(source, queue):\n",
    "    counter = 0\n",
    "    visited[Numerify(source)]={'moves': 0, 'parent': None}\n",
    "    queue.insert(0,source)   \n",
    "    while (len(queue) > 0):\n",
    "        u = queue.pop()\n",
    "        m = visited[Numerify(u)]['moves']\n",
    "        empty = u.index(0) # where is empty\n",
    "        for v in moves[empty]:\n",
    "            state = Move(u[:], v) # u[:] makes a copy of u\n",
    "            if not(visited.__contains__(Numerify(state))):\n",
    "                visited[Numerify(state)]={'moves':m+1, 'parent': u}\n",
    "                if (Numerify(state) == Numerify(final)):\n",
    "                        print (f'{counter} evaluations.')\n",
    "                        print (visited[Numerify(state)])\n",
    "                        return\n",
    "                else:\n",
    "                    counter = counter + 1\n",
    "                    queue.insert(0,state)"
   ]
  },
  {
   "cell_type": "code",
   "execution_count": 7,
   "metadata": {},
   "outputs": [
    {
     "name": "stdout",
     "output_type": "stream",
     "text": [
      "279355 evaluations.\n",
      "{'moves': 25, 'parent': [1, 2, 3, 8, 4, 0, 7, 6, 5]}\n"
     ]
    }
   ],
   "source": [
    "BuscaCega(initial, [])"
   ]
  },
  {
   "cell_type": "code",
   "execution_count": 8,
   "metadata": {},
   "outputs": [],
   "source": [
    "def Trace(state):\n",
    "    stack = []\n",
    "    stack.append(state)\n",
    "    parent = visited[Numerify(state)]['parent']\n",
    "    while (parent is not None):\n",
    "        stack.insert(0, parent)\n",
    "        parent = visited[Numerify(parent)]['parent']\n",
    "    for i, s in enumerate(stack):\n",
    "        print(f'move #{i})\n",
    "        PrintBoard(s)\n",
    "    "
   ]
  },
  {
   "cell_type": "code",
   "execution_count": 9,
   "metadata": {},
   "outputs": [
    {
     "name": "stdout",
     "output_type": "stream",
     "text": [
      "[[5 4 0]\n",
      " [6 1 8]\n",
      " [7 3 2]]\n",
      "[[5 0 4]\n",
      " [6 1 8]\n",
      " [7 3 2]]\n",
      "[[0 5 4]\n",
      " [6 1 8]\n",
      " [7 3 2]]\n",
      "[[6 5 4]\n",
      " [0 1 8]\n",
      " [7 3 2]]\n",
      "[[6 5 4]\n",
      " [1 0 8]\n",
      " [7 3 2]]\n",
      "[[6 0 4]\n",
      " [1 5 8]\n",
      " [7 3 2]]\n",
      "[[0 6 4]\n",
      " [1 5 8]\n",
      " [7 3 2]]\n",
      "[[1 6 4]\n",
      " [0 5 8]\n",
      " [7 3 2]]\n",
      "[[1 0 4]\n",
      " [6 5 8]\n",
      " [7 3 2]]\n",
      "[[1 4 0]\n",
      " [6 5 8]\n",
      " [7 3 2]]\n",
      "[[1 4 8]\n",
      " [6 5 0]\n",
      " [7 3 2]]\n",
      "[[1 4 8]\n",
      " [6 5 2]\n",
      " [7 3 0]]\n",
      "[[1 4 8]\n",
      " [6 5 2]\n",
      " [7 0 3]]\n",
      "[[1 4 8]\n",
      " [6 0 2]\n",
      " [7 5 3]]\n",
      "[[1 4 8]\n",
      " [0 6 2]\n",
      " [7 5 3]]\n",
      "[[1 0 8]\n",
      " [4 6 2]\n",
      " [7 5 3]]\n",
      "[[1 8 0]\n",
      " [4 6 2]\n",
      " [7 5 3]]\n",
      "[[1 8 2]\n",
      " [4 6 0]\n",
      " [7 5 3]]\n",
      "[[1 8 2]\n",
      " [4 6 3]\n",
      " [7 5 0]]\n",
      "[[1 8 2]\n",
      " [4 6 3]\n",
      " [7 0 5]]\n",
      "[[1 8 2]\n",
      " [4 0 3]\n",
      " [7 6 5]]\n",
      "[[1 8 2]\n",
      " [0 4 3]\n",
      " [7 6 5]]\n",
      "[[1 0 2]\n",
      " [8 4 3]\n",
      " [7 6 5]]\n",
      "[[1 2 0]\n",
      " [8 4 3]\n",
      " [7 6 5]]\n",
      "[[1 2 3]\n",
      " [8 4 0]\n",
      " [7 6 5]]\n",
      "[[1 2 3]\n",
      " [8 0 4]\n",
      " [7 6 5]]\n"
     ]
    }
   ],
   "source": [
    "Trace(final)"
   ]
  },
  {
   "cell_type": "raw",
   "metadata": {},
   "source": []
  }
 ],
 "metadata": {
  "kernelspec": {
   "display_name": "Python 3",
   "language": "python",
   "name": "python3"
  },
  "language_info": {
   "codemirror_mode": {
    "name": "ipython",
    "version": 3
   },
   "file_extension": ".py",
   "mimetype": "text/x-python",
   "name": "python",
   "nbconvert_exporter": "python",
   "pygments_lexer": "ipython3",
   "version": "3.7.2"
  }
 },
 "nbformat": 4,
 "nbformat_minor": 2
}
